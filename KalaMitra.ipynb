{
  "nbformat": 4,
  "nbformat_minor": 0,
  "metadata": {
    "colab": {
      "provenance": [],
      "authorship_tag": "ABX9TyNStDD6t5NYdNux0p3wY7xt",
      "include_colab_link": true
    },
    "kernelspec": {
      "name": "python3",
      "display_name": "Python 3"
    },
    "language_info": {
      "name": "python"
    }
  },
  "cells": [
    {
      "cell_type": "markdown",
      "metadata": {
        "id": "view-in-github",
        "colab_type": "text"
      },
      "source": [
        "<a href=\"https://colab.research.google.com/github/JNAbhishek27/KalaMitra/blob/main/KalaMitra.ipynb\" target=\"_parent\"><img src=\"https://colab.research.google.com/assets/colab-badge.svg\" alt=\"Open In Colab\"/></a>"
      ]
    },
    {
      "cell_type": "code",
      "execution_count": null,
      "metadata": {
        "id": "2u64N4Z0xR3i"
      },
      "outputs": [],
      "source": [
        "!pip install gradio faiss-cpu sentence-transformers transformers\n",
        "\n",
        "# Imports\n",
        "import gradio as gr\n",
        "import pandas as pd\n",
        "from sentence_transformers import SentenceTransformer\n",
        "import faiss\n",
        "from transformers import pipeline"
      ]
    },
    {
      "cell_type": "code",
      "source": [
        "data = {\n",
        "    \"craft\": [\n",
        "        \"Madhubani Painting\", \"Blue Pottery\", \"Pashmina Shawl\",\n",
        "        \"Terracotta Jewelry\", \"Warli Painting\", \"Wooden Toys\"\n",
        "    ],\n",
        "    \"region\": [\n",
        "        \"Bihar\", \"Jaipur\", \"Kashmir\", \"Odisha\", \"Maharashtra\", \"Karnataka\"\n",
        "    ],\n",
        "    \"details\": [\n",
        "        \"Madhubani painting is a folk art from Bihar, often depicting nature, mythology, and festivals.\",\n",
        "        \"Blue pottery from Jaipur is famous for its vibrant blue dye, made using quartz and glass.\",\n",
        "        \"Pashmina shawls from Kashmir are handwoven from fine wool, known for warmth and luxury.\",\n",
        "        \"Terracotta jewelry from Odisha is eco-friendly and handcrafted with clay.\",\n",
        "        \"Warli painting from Maharashtra depicts tribal life and rituals in geometric forms.\",\n",
        "        \"Wooden toys from Karnataka are handcrafted using natural colors and traditional techniques.\"\n",
        "    ]\n",
        "}\n",
        "df = pd.DataFrame(data)"
      ],
      "metadata": {
        "id": "Drbgzy9QxU0R"
      },
      "execution_count": 2,
      "outputs": []
    },
    {
      "cell_type": "code",
      "source": [
        "embedder = SentenceTransformer(\"all-MiniLM-L6-v2\")\n",
        "corpus_embeddings = embedder.encode(df[\"details\"].tolist(), convert_to_numpy=True)\n",
        "\n",
        "dimension = corpus_embeddings.shape[1]\n",
        "index = faiss.IndexFlatL2(dimension)\n",
        "index.add(corpus_embeddings)"
      ],
      "metadata": {
        "id": "XmcQlNajxvox"
      },
      "execution_count": null,
      "outputs": []
    },
    {
      "cell_type": "code",
      "source": [
        "story_gen = pipeline(\n",
        "    \"text-generation\",\n",
        "    model=\"gpt2-medium\"\n",
        ")\n",
        "summarizer = pipeline(\"summarization\", model=\"facebook/bart-large-cnn\")"
      ],
      "metadata": {
        "id": "nTgFHiV-yDU3"
      },
      "execution_count": null,
      "outputs": []
    },
    {
      "cell_type": "code",
      "source": [
        "def rag_query(user_input, task=\"story\"):\n",
        "    query_embedding = embedder.encode([user_input], convert_to_numpy=True)\n",
        "    D, I = index.search(query_embedding, k=1)\n",
        "    context = df.iloc[I[0][0]][\"details\"]\n",
        "    region = df.iloc[I[0][0]][\"region\"]\n",
        "    craft = df.iloc[I[0][0]][\"craft\"]\n",
        "\n",
        "    if task == \"story\":\n",
        "        prompt = f\"\"\"\n",
        "        Context: {context}\n",
        "\n",
        "        Write a story about an artisan who works in {region}\n",
        "        who keeps alive the tradition of {craft}.\n",
        "        Describe their pride, and the cultural value of this art form.\n",
        "        \"\"\"\n",
        "        output = story_gen(\n",
        "            prompt,\n",
        "            max_length=200,\n",
        "            num_return_sequences=1,\n",
        "            temperature=0.7,\n",
        "            top_p=0.9,\n",
        "            repetition_penalty=1.5,\n",
        "            no_repeat_ngram_size=3\n",
        "        )[0][\"generated_text\"]\n",
        "\n",
        "    elif task == \"description\":\n",
        "        prompt = f\"\"\"\n",
        "        Context: {context}\n",
        "\n",
        "        Write a modern product description for {craft}, highlighting its uniqueness and cultural value.\n",
        "        \"\"\"\n",
        "        output = summarizer(prompt, max_length=60, min_length=30, do_sample=False)[0]['summary_text']\n",
        "\n",
        "    else:\n",
        "        prompt = f\"\"\"\n",
        "        Context: {context}\n",
        "\n",
        "        Create a short, catchy Instagram caption to promote {craft} made by artisans in {region}.\n",
        "        \"\"\"\n",
        "        output = story_gen(\n",
        "            prompt,\n",
        "            max_length=60,\n",
        "            num_return_sequences=1,\n",
        "            temperature=0.8,\n",
        "            top_p=0.9,\n",
        "            repetition_penalty=1.4,\n",
        "            no_repeat_ngram_size=3\n",
        "        )[0][\"generated_text\"]\n",
        "\n",
        "    return output.strip()"
      ],
      "metadata": {
        "id": "B_PSMUZKy2OM"
      },
      "execution_count": 5,
      "outputs": []
    },
    {
      "cell_type": "code",
      "source": [
        "with gr.Blocks() as demo:\n",
        "    gr.Markdown(\"# 🌍 AI Artisan Marketplace Assistant with RAG\")\n",
        "    user_input = gr.Textbox(label=\"Enter artisan, craft, or region (e.g., Madhubani Painting, Kashmir, Jaipur)\")\n",
        "\n",
        "    with gr.Tab(\"Artisan Story\"):\n",
        "        story_out = gr.Textbox(label=\"Generated Story\", lines=6)\n",
        "        gr.Button(\"Generate Story\").click(lambda x: rag_query(x, \"story\"), inputs=user_input, outputs=story_out)\n",
        "\n",
        "    with gr.Tab(\"Product Description\"):\n",
        "        desc_out = gr.Textbox(label=\"Generated Description\", lines=4)\n",
        "        gr.Button(\"Generate Description\").click(lambda x: rag_query(x, \"description\"), inputs=user_input, outputs=desc_out)\n",
        "\n",
        "    with gr.Tab(\"Social Caption\"):\n",
        "        cap_out = gr.Textbox(label=\"Generated Caption\", lines=2)\n",
        "        gr.Button(\"Generate Caption\").click(lambda x: rag_query(x, \"caption\"), inputs=user_input, outputs=cap_out)\n",
        "\n",
        "demo.launch(share=True)"
      ],
      "metadata": {
        "id": "IMzVkHREy8ga"
      },
      "execution_count": null,
      "outputs": []
    }
  ]
}